{
  "nbformat": 4,
  "nbformat_minor": 0,
  "metadata": {
    "colab": {
      "provenance": []
    },
    "kernelspec": {
      "name": "python3",
      "display_name": "Python 3"
    },
    "language_info": {
      "name": "python"
    }
  },
  "cells": [
    {
      "cell_type": "code",
      "source": [
        "!pip install catboost"
      ],
      "metadata": {
        "colab": {
          "base_uri": "https://localhost:8080/"
        },
        "id": "dJdgcsHpccXm",
        "outputId": "698b70d4-3f7e-4657-d8d8-4d1bae31a062"
      },
      "execution_count": 24,
      "outputs": [
        {
          "output_type": "stream",
          "name": "stdout",
          "text": [
            "Requirement already satisfied: catboost in /usr/local/lib/python3.11/dist-packages (1.2.8)\n",
            "Requirement already satisfied: graphviz in /usr/local/lib/python3.11/dist-packages (from catboost) (0.20.3)\n",
            "Requirement already satisfied: matplotlib in /usr/local/lib/python3.11/dist-packages (from catboost) (3.10.0)\n",
            "Requirement already satisfied: numpy<3.0,>=1.16.0 in /usr/local/lib/python3.11/dist-packages (from catboost) (2.0.2)\n",
            "Requirement already satisfied: pandas>=0.24 in /usr/local/lib/python3.11/dist-packages (from catboost) (2.2.2)\n",
            "Requirement already satisfied: scipy in /usr/local/lib/python3.11/dist-packages (from catboost) (1.15.2)\n",
            "Requirement already satisfied: plotly in /usr/local/lib/python3.11/dist-packages (from catboost) (5.24.1)\n",
            "Requirement already satisfied: six in /usr/local/lib/python3.11/dist-packages (from catboost) (1.17.0)\n",
            "Requirement already satisfied: python-dateutil>=2.8.2 in /usr/local/lib/python3.11/dist-packages (from pandas>=0.24->catboost) (2.9.0.post0)\n",
            "Requirement already satisfied: pytz>=2020.1 in /usr/local/lib/python3.11/dist-packages (from pandas>=0.24->catboost) (2025.2)\n",
            "Requirement already satisfied: tzdata>=2022.7 in /usr/local/lib/python3.11/dist-packages (from pandas>=0.24->catboost) (2025.2)\n",
            "Requirement already satisfied: contourpy>=1.0.1 in /usr/local/lib/python3.11/dist-packages (from matplotlib->catboost) (1.3.2)\n",
            "Requirement already satisfied: cycler>=0.10 in /usr/local/lib/python3.11/dist-packages (from matplotlib->catboost) (0.12.1)\n",
            "Requirement already satisfied: fonttools>=4.22.0 in /usr/local/lib/python3.11/dist-packages (from matplotlib->catboost) (4.57.0)\n",
            "Requirement already satisfied: kiwisolver>=1.3.1 in /usr/local/lib/python3.11/dist-packages (from matplotlib->catboost) (1.4.8)\n",
            "Requirement already satisfied: packaging>=20.0 in /usr/local/lib/python3.11/dist-packages (from matplotlib->catboost) (24.2)\n",
            "Requirement already satisfied: pillow>=8 in /usr/local/lib/python3.11/dist-packages (from matplotlib->catboost) (11.2.1)\n",
            "Requirement already satisfied: pyparsing>=2.3.1 in /usr/local/lib/python3.11/dist-packages (from matplotlib->catboost) (3.2.3)\n",
            "Requirement already satisfied: tenacity>=6.2.0 in /usr/local/lib/python3.11/dist-packages (from plotly->catboost) (9.1.2)\n"
          ]
        }
      ]
    },
    {
      "cell_type": "code",
      "execution_count": 25,
      "metadata": {
        "id": "qIC7K_kSaLhi"
      },
      "outputs": [],
      "source": [
        "import pickle\n",
        "import numpy as np\n",
        "import pandas as pd\n",
        "import joblib\n",
        "from catboost import CatBoostClassifier\n",
        "from sklearn.metrics import classification_report, confusion_matrix, accuracy_score"
      ]
    },
    {
      "cell_type": "code",
      "source": [
        "X_test = pd.read_csv('X_test_full.csv')\n",
        "y_test = pd.read_csv('y_test_full.csv')"
      ],
      "metadata": {
        "id": "KDs4xENGfpdO"
      },
      "execution_count": 26,
      "outputs": []
    },
    {
      "cell_type": "code",
      "source": [
        "model1 = CatBoostClassifier().load_model('catboost.pkl')"
      ],
      "metadata": {
        "id": "7G_QDqLWcWEp"
      },
      "execution_count": 27,
      "outputs": []
    },
    {
      "cell_type": "code",
      "source": [
        "model2 = joblib.load('random_forest_classifier.pkl')"
      ],
      "metadata": {
        "id": "vmxu_Z7MdKpJ"
      },
      "execution_count": 28,
      "outputs": []
    },
    {
      "cell_type": "code",
      "source": [
        "accuracy1 = 0.9270\n",
        "accuracy2 = 0.9307\n",
        "total = accuracy1 + accuracy2\n",
        "weight1 = accuracy1 / total\n",
        "weight2 = accuracy2 / total"
      ],
      "metadata": {
        "id": "E8Kh7cowdWQY"
      },
      "execution_count": 29,
      "outputs": []
    },
    {
      "cell_type": "code",
      "source": [
        "class WeightedEnsemble:\n",
        "    def __init__(self, model1, model2, weight1, weight2):\n",
        "        self.model1 = model1\n",
        "        self.model2 = model2\n",
        "        self.weight1 = weight1\n",
        "        self.weight2 = weight2\n",
        "\n",
        "    def predict_proba(self, X):\n",
        "        proba1 = self.model1.predict_proba(X)[:, 1]\n",
        "        proba2 = self.model2.predict_proba(X)[:, 1]\n",
        "        ensemble_proba = self.weight1 * proba1 + self.weight2 * proba2\n",
        "        return np.vstack((1 - ensemble_proba, ensemble_proba)).T\n",
        "\n",
        "    def predict(self, X):\n",
        "        proba = self.predict_proba(X)[:, 1]\n",
        "        return (proba >= 0.5).astype(int)\n"
      ],
      "metadata": {
        "id": "5IZ0fe0CmW3d"
      },
      "execution_count": 30,
      "outputs": []
    },
    {
      "cell_type": "code",
      "source": [
        "ensemble_model = WeightedEnsemble(model1, model2, weight1, weight2)\n",
        "\n",
        "ensemble_pred = ensemble_model.predict(X_test)\n",
        "print(\"Ensemble Classification Report:\\n\", classification_report(y_test, ensemble_pred, digits=4))\n",
        "print(\"Confusion Matrix:\\n\", confusion_matrix(y_test, ensemble_pred))\n",
        "print(\"Accuracy:\", accuracy_score(y_test, ensemble_pred))"
      ],
      "metadata": {
        "id": "IrfjMD7YmZP4",
        "colab": {
          "base_uri": "https://localhost:8080/"
        },
        "outputId": "73a27e3c-09b1-403c-cda8-ad458814671d"
      },
      "execution_count": 31,
      "outputs": [
        {
          "output_type": "stream",
          "name": "stdout",
          "text": [
            "Ensemble Classification Report:\n",
            "               precision    recall  f1-score   support\n",
            "\n",
            "           0     0.9922    0.9221    0.9559    401878\n",
            "           1     0.9273    0.9928    0.9589    401946\n",
            "\n",
            "    accuracy                         0.9575    803824\n",
            "   macro avg     0.9598    0.9575    0.9574    803824\n",
            "weighted avg     0.9598    0.9575    0.9574    803824\n",
            "\n",
            "Confusion Matrix:\n",
            " [[370574  31304]\n",
            " [  2895 399051]]\n",
            "Accuracy: 0.9574546169310695\n"
          ]
        }
      ]
    },
    {
      "cell_type": "code",
      "source": [
        "joblib.dump(ensemble_model, 'ensemble_model.pkl')\n"
      ],
      "metadata": {
        "colab": {
          "base_uri": "https://localhost:8080/"
        },
        "id": "zxew_-6ymbKw",
        "outputId": "2f825109-0982-468d-a891-c9bd3be4a9a3"
      },
      "execution_count": 32,
      "outputs": [
        {
          "output_type": "execute_result",
          "data": {
            "text/plain": [
              "['ensemble_model.pkl']"
            ]
          },
          "metadata": {},
          "execution_count": 32
        }
      ]
    }
  ]
}