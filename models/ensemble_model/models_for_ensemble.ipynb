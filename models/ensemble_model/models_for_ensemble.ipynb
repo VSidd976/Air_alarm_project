{
  "cells": [
    {
      "cell_type": "raw",
      "metadata": {
        "id": "zFG69JaKaxyF",
        "outputId": "05d8ba28-216d-4ecc-ca75-c6d662c49509"
      },
      "source": [
        "!pip install catboost"
      ]
    },
    {
      "cell_type": "code",
      "execution_count": null,
      "metadata": {
        "id": "dxWaefWvYRPc"
      },
      "outputs": [],
      "source": [
        "from sklearn.model_selection import TimeSeriesSplit, RandomizedSearchCV\n",
        "from sklearn.metrics import classification_report, confusion_matrix, accuracy_score\n",
        "from sklearn.utils import resample\n",
        "from catboost import CatBoostClassifier, Pool\n",
        "import matplotlib.pyplot as plt\n",
        "import seaborn as sns\n",
        "import numpy as np\n",
        "import pandas as pd\n",
        "import seaborn as sns\n",
        "from sklearn.preprocessing import StandardScaler\n",
        "from sklearn.ensemble import RandomForestClassifier\n",
        "from sklearn.metrics import classification_report, confusion_matrix, roc_curve, auc\n",
        "from joblib import dump, load"
      ]
    },
    {
      "cell_type": "markdown",
      "metadata": {
        "id": "U3BfKmggNgg_"
      },
      "source": [
        "## **Data preparing**\n",
        "---"
      ]
    },
    {
      "cell_type": "code",
      "execution_count": null,
      "metadata": {
        "id": "WyXP986kYWfp"
      },
      "outputs": [],
      "source": [
        "df = pd.read_csv('df+dist+hol.csv')"
      ]
    },
    {
      "cell_type": "code",
      "execution_count": null,
      "metadata": {
        "id": "-fPZu8RpRxxa"
      },
      "outputs": [],
      "source": [
        "df = df.drop(columns=[\"Unnamed: 0\"])"
      ]
    },
    {
      "cell_type": "code",
      "execution_count": null,
      "metadata": {
        "colab": {
          "base_uri": "https://localhost:8080/"
        },
        "id": "rtr7B37DYe2V",
        "outputId": "2a7a4293-cd2a-4cfc-8156-d56dbeb606e5"
      },
      "outputs": [
        {
          "data": {
            "text/plain": [
              "Index(['city_address', 'day_precip', 'day_precipcover', 'day_snow',\n",
              "       'day_windspeed', 'day_winddir', 'day_uvindex', 'hour_temp',\n",
              "       'hour_humidity', 'hour_precip', 'hour_precipprob', 'hour_snow',\n",
              "       'hour_windspeed', 'hour_winddir', 'hour_pressure', 'hour_visibility',\n",
              "       'hour_cloudcover', 'hour_uvindex', 'Clear', 'Ice', 'datetime', 'Snow',\n",
              "       'Overcast', 'Rain', 'Fog', 'Partially cloudy',\n",
              "       'Freezing Drizzle/Freezing Rain', 'anomaly', 'alarms', 'date', 'sun',\n",
              "       'Engels2', 'Baltimore', 'Saki', 'Belbek', 'Olenya', 'Mozdok',\n",
              "       'Savasleyka', 'hol_risk', 'text_vector', 'tg_vector'],\n",
              "      dtype='object')"
            ]
          },
          "execution_count": 4,
          "metadata": {},
          "output_type": "execute_result"
        }
      ],
      "source": [
        "df.columns"
      ]
    },
    {
      "cell_type": "code",
      "execution_count": null,
      "metadata": {
        "id": "c0ZXVP3JIpY1"
      },
      "outputs": [],
      "source": [
        "df.rename(columns={'text_vector': 'isw_vector'}, inplace=True)"
      ]
    },
    {
      "cell_type": "code",
      "execution_count": null,
      "metadata": {
        "id": "wf43HDfUZHA6"
      },
      "outputs": [],
      "source": [
        "df['alarms'] = df['alarms'].apply(lambda x: 0 if x == 0 else 1)"
      ]
    },
    {
      "cell_type": "code",
      "execution_count": null,
      "metadata": {
        "colab": {
          "base_uri": "https://localhost:8080/",
          "height": 178
        },
        "id": "5IycFrfsrd0a",
        "outputId": "dce2b003-fc57-4563-e0c4-862789a73517"
      },
      "outputs": [
        {
          "data": {
            "text/plain": [
              "alarms\n",
              "0    502391\n",
              "1    105844\n",
              "Name: count, dtype: int64"
            ]
          },
          "execution_count": 7,
          "metadata": {},
          "output_type": "execute_result"
        }
      ],
      "source": [
        "df['alarms'].value_counts()"
      ]
    },
    {
      "cell_type": "code",
      "execution_count": null,
      "metadata": {
        "colab": {
          "base_uri": "https://localhost:8080/",
          "height": 1000
        },
        "id": "YcKdJZpUZOyW",
        "outputId": "d714d1e7-4674-4a93-c103-06f0e88763e4"
      },
      "outputs": [
        {
          "data": {
            "text/plain": [
              "city_address                          0\n",
              "day_precip                            0\n",
              "day_precipcover                       0\n",
              "day_snow                              0\n",
              "day_windspeed                         0\n",
              "day_winddir                           0\n",
              "day_uvindex                           0\n",
              "hour_temp                             0\n",
              "hour_humidity                         0\n",
              "hour_precip                           0\n",
              "hour_precipprob                       0\n",
              "hour_snow                             0\n",
              "hour_windspeed                        0\n",
              "hour_winddir                          0\n",
              "hour_pressure                         0\n",
              "hour_visibility                       0\n",
              "hour_cloudcover                       0\n",
              "hour_uvindex                          0\n",
              "Clear                                 0\n",
              "Ice                                   0\n",
              "datetime                              0\n",
              "Snow                                  0\n",
              "Overcast                              0\n",
              "Rain                                  0\n",
              "Fog                                   0\n",
              "Partially cloudy                      0\n",
              "Freezing Drizzle/Freezing Rain        0\n",
              "anomaly                               0\n",
              "alarms                                0\n",
              "date                                  0\n",
              "sun                                   0\n",
              "Engels2                               0\n",
              "Baltimore                             0\n",
              "Saki                                  0\n",
              "Belbek                                0\n",
              "Olenya                                0\n",
              "Mozdok                                0\n",
              "Savasleyka                            0\n",
              "hol_risk                              0\n",
              "isw_vector                        12696\n",
              "tg_vector                             0\n",
              "dtype: int64"
            ]
          },
          "execution_count": 8,
          "metadata": {},
          "output_type": "execute_result"
        }
      ],
      "source": [
        "df.isnull().sum()"
      ]
    },
    {
      "cell_type": "code",
      "execution_count": null,
      "metadata": {
        "id": "h44pQ7lPZWS3"
      },
      "outputs": [],
      "source": [
        "df['isw_vector'] = df['isw_vector'].fillna(0)"
      ]
    },
    {
      "cell_type": "code",
      "execution_count": null,
      "metadata": {
        "id": "YiyW1tDcr2Mw"
      },
      "outputs": [],
      "source": [
        "df['datetime'] = pd.to_datetime(df['datetime'])\n",
        "\n",
        "df['year'] = df['datetime'].dt.year\n",
        "df['month'] = df['datetime'].dt.month\n",
        "df['day'] = df['datetime'].dt.day\n",
        "df['hour'] = df['datetime'].dt.hour\n",
        "df['minute'] = df['datetime'].dt.minute\n",
        "df['second'] = df['datetime'].dt.second"
      ]
    },
    {
      "cell_type": "code",
      "execution_count": null,
      "metadata": {
        "id": "Bm0glO1tsD0I"
      },
      "outputs": [],
      "source": [
        "df = df.drop(columns=['datetime'])\n",
        "df = df.drop(columns=['date'])\n",
        "df = df.drop(columns=['anomaly'])\n",
        "df = df.drop(columns=['city_address'])"
      ]
    },
    {
      "cell_type": "code",
      "execution_count": null,
      "metadata": {
        "colab": {
          "base_uri": "https://localhost:8080/",
          "height": 178
        },
        "id": "3kgLa-W_sd8r",
        "outputId": "dd04078e-c6dc-41c5-97ce-1c3625d2207b"
      },
      "outputs": [
        {
          "data": {
            "text/plain": [
              "alarms\n",
              "1    502391\n",
              "0    502391\n",
              "Name: count, dtype: int64"
            ]
          },
          "execution_count": 12,
          "metadata": {},
          "output_type": "execute_result"
        }
      ],
      "source": [
        "df_majority = df[df['alarms'] == 0]\n",
        "df_minority = df[df['alarms'] == 1]\n",
        "\n",
        "df_minority_upsampled = resample(df_minority,\n",
        "                                 replace=True,\n",
        "                                 n_samples=len(df_majority),\n",
        "                                 random_state=42)\n",
        "\n",
        "\n",
        "df_balanced = pd.concat([df_majority, df_minority_upsampled])\n",
        "\n",
        "df_balanced = df_balanced.sample(frac=1, random_state=42).reset_index(drop=True)\n",
        "df_balanced['alarms'].value_counts()"
      ]
    },
    {
      "cell_type": "markdown",
      "metadata": {
        "id": "jEcxRIV6riUZ"
      },
      "source": [
        "***MODEL Cat Boost***\n",
        "\n",
        "---"
      ]
    },
    {
      "cell_type": "code",
      "execution_count": null,
      "metadata": {
        "id": "vZAqLQHCa7bc"
      },
      "outputs": [],
      "source": [
        "X = df_balanced.drop('alarms', axis=1)\n",
        "y = df_balanced['alarms']\n",
        "\n",
        "tscv = TimeSeriesSplit(n_splits=4)\n",
        "\n",
        "for train_index, test_index in tscv.split(X):\n",
        "    X_train, X_test = X.iloc[train_index], X.iloc[test_index]\n",
        "    y_train, y_test = y.iloc[train_index], y.iloc[test_index]\n"
      ]
    },
    {
      "cell_type": "code",
      "execution_count": null,
      "metadata": {
        "id": "AgcKmZ40bFT8"
      },
      "outputs": [],
      "source": [
        "model = CatBoostClassifier(verbose=0, random_state=42)\n",
        "\n",
        "# Hyperparameters for RandomizedSearchCV\n",
        "params = {\n",
        "    'depth': [4, 6, 8, 10],\n",
        "    'learning_rate': [0.01, 0.05, 0.1, 0.2],\n",
        "    'iterations': [100, 300, 500],\n",
        "    'l2_leaf_reg': [1, 3, 5, 7, 9],\n",
        "    'border_count': [32, 64, 128],\n",
        "    'random_strength': [1, 2, 5, 10]\n",
        "}\n",
        "\n",
        "# RandomizedSearchCV\n",
        "search = RandomizedSearchCV(\n",
        "    estimator=model,\n",
        "    param_distributions=params,\n",
        "    n_iter=20,\n",
        "    scoring='f1',\n",
        "    cv=3,\n",
        "    verbose=2,\n",
        "    n_jobs=-1\n",
        ")\n"
      ]
    },
    {
      "cell_type": "markdown",
      "metadata": {
        "id": "3-KO3ilwPCF3"
      },
      "source": [
        "*Loading a test sample to evaluate the future ensemble, ensuring it is tested on data that the models have not encountered during training*.\n",
        "\n",
        "---"
      ]
    },
    {
      "cell_type": "code",
      "execution_count": null,
      "metadata": {
        "id": "6-eWe6D4Rxxc"
      },
      "outputs": [],
      "source": [
        "X_test.to_csv('X_test_final.csv', index=False)\n",
        "y_test.to_csv('y_test_final.csv', index=False)"
      ]
    },
    {
      "cell_type": "markdown",
      "metadata": {
        "id": "eOsBIYopWWzG"
      },
      "source": [
        "***Cat Boost:***"
      ]
    },
    {
      "cell_type": "code",
      "execution_count": null,
      "metadata": {
        "colab": {
          "base_uri": "https://localhost:8080/"
        },
        "id": "8XKBHx1hkwKz",
        "outputId": "30dbe28a-09ea-42fa-e5be-b6685cd7487a"
      },
      "outputs": [
        {
          "name": "stdout",
          "output_type": "stream",
          "text": [
            "Classification Report:\n",
            "               precision    recall  f1-score   support\n",
            "\n",
            "           0     0.9671    0.8876    0.9256    100407\n",
            "           1     0.8963    0.9698    0.9316    100549\n",
            "\n",
            "    accuracy                         0.9287    200956\n",
            "   macro avg     0.9317    0.9287    0.9286    200956\n",
            "weighted avg     0.9317    0.9287    0.9286    200956\n",
            "\n",
            "Confusion Matrix:\n",
            " [[89123 11284]\n",
            " [ 3035 97514]]\n"
          ]
        }
      ],
      "source": [
        "model = CatBoostClassifier(iterations=700, depth=10, random_strength=2,\n",
        "                           learning_rate=0.2, l2_leaf_reg=1, random_state=42,\n",
        "                           border_count=64, verbose=0)\n",
        "\n",
        "model.fit(X_train, y_train)\n",
        "\n",
        "y_pred = model.predict(X_test)\n",
        "print(\"Classification Report:\\n\", classification_report(y_test, y_pred, digits=4))\n",
        "print(\"Confusion Matrix:\\n\", confusion_matrix(y_test, y_pred))\n",
        "\n",
        "model.save_model('catboost.pkl')"
      ]
    },
    {
      "cell_type": "code",
      "execution_count": null,
      "metadata": {
        "id": "6MTAlyJEQNch"
      },
      "outputs": [],
      "source": [
        "command_id = 1\n",
        "model_name = \"catboost_classifier\"\n",
        "version = \"v1\"\n",
        "\n",
        "file_name = f\"{command_id}__{model_name}__{version}.pkl\"\n",
        "\n",
        "model.save_model(file_name)"
      ]
    },
    {
      "cell_type": "markdown",
      "metadata": {
        "id": "q1y_cLOnPiOT"
      },
      "source": [
        "***MODEL: Random Forest***\n",
        "\n",
        "---"
      ]
    },
    {
      "cell_type": "code",
      "execution_count": null,
      "metadata": {
        "id": "jtJxwZWEkBsy",
        "outputId": "91176139-4f51-4f9f-8f6f-0c8dd4f9027c"
      },
      "outputs": [
        {
          "name": "stdout",
          "output_type": "stream",
          "text": [
            "Classification Report:\n",
            "               precision    recall  f1-score   support\n",
            "\n",
            "           0     0.9797    0.8754    0.9246    100407\n",
            "           1     0.8875    0.9819    0.9323    100549\n",
            "\n",
            "    accuracy                         0.9287    200956\n",
            "   macro avg     0.9336    0.9286    0.9285    200956\n",
            "weighted avg     0.9336    0.9287    0.9285    200956\n",
            "\n",
            "Confusion Matrix:\n",
            " [[87893 12514]\n",
            " [ 1819 98730]]\n"
          ]
        }
      ],
      "source": [
        "model = RandomForestClassifier(\n",
        "    n_estimators=200,\n",
        "    max_depth=20,\n",
        "    min_samples_split=5,\n",
        "    min_samples_leaf=1,\n",
        "    max_features=None,\n",
        "    bootstrap=True,\n",
        "    n_jobs=-1,\n",
        "    random_state=42,\n",
        "    class_weight='balanced'\n",
        ")\n",
        "\n",
        "model.fit(X_train, y_train)\n",
        "\n",
        "y_pred = model.predict(X_test)\n",
        "print(\"Classification Report:\\n\", classification_report(y_test, y_pred, digits=4))\n",
        "print(\"Confusion Matrix:\\n\", confusion_matrix(y_test, y_pred))\n"
      ]
    },
    {
      "cell_type": "code",
      "execution_count": null,
      "metadata": {
        "colab": {
          "base_uri": "https://localhost:8080/"
        },
        "id": "Fm4byWaFhtaN",
        "outputId": "a8ff54f7-fdc7-4195-a995-774c3b2cd2e9"
      },
      "outputs": [
        {
          "data": {
            "text/plain": [
              "['random_forest_classifier.pkl']"
            ]
          },
          "execution_count": 19,
          "metadata": {},
          "output_type": "execute_result"
        }
      ],
      "source": [
        "dump(model, 'random_forest_classifier.pkl')"
      ]
    },
    {
      "cell_type": "code",
      "execution_count": null,
      "metadata": {
        "id": "J-MwIKTURxxd"
      },
      "outputs": [],
      "source": []
    },
    {
      "cell_type": "code",
      "execution_count": null,
      "metadata": {
        "id": "9LvxX-TsRxxd"
      },
      "outputs": [],
      "source": []
    }
  ],
  "metadata": {
    "colab": {
      "provenance": []
    },
    "kernelspec": {
      "display_name": "Python 3 (ipykernel)",
      "language": "python",
      "name": "python3"
    },
    "language_info": {
      "codemirror_mode": {
        "name": "ipython",
        "version": 3
      },
      "file_extension": ".py",
      "mimetype": "text/x-python",
      "name": "python",
      "nbconvert_exporter": "python",
      "pygments_lexer": "ipython3",
      "version": "3.11.7"
    }
  },
  "nbformat": 4,
  "nbformat_minor": 0
}