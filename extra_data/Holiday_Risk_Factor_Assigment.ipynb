{
 "cells": [
  {
   "cell_type": "markdown",
   "id": "e73aaf8f-34fe-4cf7-9d09-2ae57ff4a1e2",
   "metadata": {},
   "source": [
    "# Ukrainian holidays-risk asignment"
   ]
  },
  {
   "cell_type": "markdown",
   "id": "43699fa7-1701-4ed6-9769-ea7001640423",
   "metadata": {},
   "source": [
    "### Importing all libraries that we will use"
   ]
  },
  {
   "cell_type": "code",
   "execution_count": 1,
   "id": "497f0428-7239-450c-ad9e-f1c13f04f1c7",
   "metadata": {},
   "outputs": [],
   "source": [
    "import requests "
   ]
  },
  {
   "cell_type": "code",
   "execution_count": 2,
   "id": "38dab3c4-e55c-4137-8ea4-7251875c5699",
   "metadata": {},
   "outputs": [],
   "source": [
    "import pandas as pd"
   ]
  },
  {
   "cell_type": "code",
   "execution_count": 3,
   "id": "91dd0faf-d571-4371-b41a-ca8c307035cf",
   "metadata": {},
   "outputs": [],
   "source": [
    "import numpy as np"
   ]
  },
  {
   "cell_type": "code",
   "execution_count": 4,
   "id": "dda1db75-c372-4504-b55e-ba22ad1ccd62",
   "metadata": {},
   "outputs": [],
   "source": [
    "from io import StringIO"
   ]
  },
  {
   "cell_type": "markdown",
   "id": "3c6432ac-cc89-4f72-940d-12b37a7fa672",
   "metadata": {},
   "source": [
    "### Scrapping and parsing wikipedia page "
   ]
  },
  {
   "cell_type": "markdown",
   "id": "6a3a21eb-8e3c-499d-a1c1-06cc153607db",
   "metadata": {},
   "source": [
    "The data that we are intrested is located on Wikipedia page, so there is a way we are going to dowmload. The relevant Wikipedia page was scraped using Python's requests and pandas libraries."
   ]
  },
  {
   "cell_type": "code",
   "execution_count": 5,
   "id": "ec3c3e95-4687-4a19-b4b7-2338193a38a0",
   "metadata": {},
   "outputs": [],
   "source": [
    "url = \"https://uk.wikipedia.org/wiki/Свята_і_пам%27ятні_дні_в_Україні\""
   ]
  },
  {
   "cell_type": "code",
   "execution_count": 6,
   "id": "8d60a387-bfe2-48ce-a937-993ca0f0850d",
   "metadata": {},
   "outputs": [],
   "source": [
    "headers = {\"User-Agent\": \"Mozilla/5.0\"} \n",
    "response = requests.get(url, headers=headers)\n",
    "response.encoding = response.apparent_encoding  "
   ]
  },
  {
   "cell_type": "code",
   "execution_count": 7,
   "id": "edeecc3b-3bcf-4445-8e02-8b3e2475bcbe",
   "metadata": {},
   "outputs": [],
   "source": [
    "tables = pd.read_html(StringIO(response.text))"
   ]
  },
  {
   "cell_type": "code",
   "execution_count": 8,
   "id": "2928afec-03ef-49c7-8ad6-bfa33d372a1b",
   "metadata": {},
   "outputs": [],
   "source": [
    "#tables = pd.read_html(response.text)"
   ]
  },
  {
   "cell_type": "code",
   "execution_count": 9,
   "id": "9c0a7e44-4e36-41f5-8f94-ea6a80d0dc87",
   "metadata": {},
   "outputs": [
    {
     "name": "stdout",
     "output_type": "stream",
     "text": [
      "Found 6 tables.\n"
     ]
    }
   ],
   "source": [
    "print(f\"Found {len(tables)} tables.\")"
   ]
  },
  {
   "cell_type": "markdown",
   "id": "8174b1be-26bd-4309-87fa-b7430d1d0489",
   "metadata": {},
   "source": [
    "This responce suggest that we have succesfully uploaded 6 tables of content from Wikipedia page. Sometimes some of the tables may not be obvious, for example our page has only one visible table and other are hidden as links, so we shall check the content of our tables."
   ]
  },
  {
   "cell_type": "code",
   "execution_count": 10,
   "id": "bf30a148-4f6a-4d7e-ad52-1bc8935325cd",
   "metadata": {},
   "outputs": [
    {
     "data": {
      "text/html": [
       "<div>\n",
       "<style scoped>\n",
       "    .dataframe tbody tr th:only-of-type {\n",
       "        vertical-align: middle;\n",
       "    }\n",
       "\n",
       "    .dataframe tbody tr th {\n",
       "        vertical-align: top;\n",
       "    }\n",
       "\n",
       "    .dataframe thead th {\n",
       "        text-align: right;\n",
       "    }\n",
       "</style>\n",
       "<table border=\"1\" class=\"dataframe\">\n",
       "  <thead>\n",
       "    <tr style=\"text-align: right;\">\n",
       "      <th></th>\n",
       "      <th>0</th>\n",
       "      <th>1</th>\n",
       "      <th>2</th>\n",
       "    </tr>\n",
       "  </thead>\n",
       "  <tbody>\n",
       "    <tr>\n",
       "      <th>0</th>\n",
       "      <td>Святкові та пам'ятні дні, що відзначають в Укр...</td>\n",
       "      <td>Святкові та пам'ятні дні, що відзначають в Укр...</td>\n",
       "      <td>Святкові та пам'ятні дні, що відзначають в Укр...</td>\n",
       "    </tr>\n",
       "    <tr>\n",
       "      <th>1</th>\n",
       "      <td>Дата</td>\n",
       "      <td>Назва</td>\n",
       "      <td>Інформація</td>\n",
       "    </tr>\n",
       "    <tr>\n",
       "      <th>2</th>\n",
       "      <td>Січень</td>\n",
       "      <td>Січень</td>\n",
       "      <td>Січень</td>\n",
       "    </tr>\n",
       "    <tr>\n",
       "      <th>3</th>\n",
       "      <td>1 січня</td>\n",
       "      <td>Новий рік</td>\n",
       "      <td>Свято є державним вихідним днем. У всіх регіон...</td>\n",
       "    </tr>\n",
       "    <tr>\n",
       "      <th>4</th>\n",
       "      <td>1 січня</td>\n",
       "      <td>День Святого Василія Великого</td>\n",
       "      <td>Християнське Свято. Відзначається усіма христи...</td>\n",
       "    </tr>\n",
       "    <tr>\n",
       "      <th>...</th>\n",
       "      <td>...</td>\n",
       "      <td>...</td>\n",
       "      <td>...</td>\n",
       "    </tr>\n",
       "    <tr>\n",
       "      <th>190</th>\n",
       "      <td>24 грудня</td>\n",
       "      <td>Святий Вечір</td>\n",
       "      <td>Одне з найурочистіших свят. Його відзначають н...</td>\n",
       "    </tr>\n",
       "    <tr>\n",
       "      <th>191</th>\n",
       "      <td>25 грудня</td>\n",
       "      <td>Різдво Христове</td>\n",
       "      <td>Відзначається в Україні (ЗАКОН УКРАЇНИ від 14 ...</td>\n",
       "    </tr>\n",
       "    <tr>\n",
       "      <th>192</th>\n",
       "      <td>26 грудня</td>\n",
       "      <td>Собор Пресвятої Богородиці</td>\n",
       "      <td>Християнське свято в честь Діви Марії. Другий ...</td>\n",
       "    </tr>\n",
       "    <tr>\n",
       "      <th>193</th>\n",
       "      <td>27 грудня</td>\n",
       "      <td>День святого Стефана</td>\n",
       "      <td>Християнське свято, що припадає на день пам'ят...</td>\n",
       "    </tr>\n",
       "    <tr>\n",
       "      <th>194</th>\n",
       "      <td>31 грудня</td>\n",
       "      <td>Щедрий вечір</td>\n",
       "      <td>Українське народно-церковне свято, вечір напер...</td>\n",
       "    </tr>\n",
       "  </tbody>\n",
       "</table>\n",
       "<p>195 rows × 3 columns</p>\n",
       "</div>"
      ],
      "text/plain": [
       "                                                     0  \\\n",
       "0    Святкові та пам'ятні дні, що відзначають в Укр...   \n",
       "1                                                 Дата   \n",
       "2                                               Січень   \n",
       "3                                              1 січня   \n",
       "4                                              1 січня   \n",
       "..                                                 ...   \n",
       "190                                          24 грудня   \n",
       "191                                          25 грудня   \n",
       "192                                          26 грудня   \n",
       "193                                          27 грудня   \n",
       "194                                          31 грудня   \n",
       "\n",
       "                                                     1  \\\n",
       "0    Святкові та пам'ятні дні, що відзначають в Укр...   \n",
       "1                                                Назва   \n",
       "2                                               Січень   \n",
       "3                                            Новий рік   \n",
       "4                        День Святого Василія Великого   \n",
       "..                                                 ...   \n",
       "190                                       Святий Вечір   \n",
       "191                                    Різдво Христове   \n",
       "192                         Собор Пресвятої Богородиці   \n",
       "193                               День святого Стефана   \n",
       "194                                       Щедрий вечір   \n",
       "\n",
       "                                                     2  \n",
       "0    Святкові та пам'ятні дні, що відзначають в Укр...  \n",
       "1                                           Інформація  \n",
       "2                                               Січень  \n",
       "3    Свято є державним вихідним днем. У всіх регіон...  \n",
       "4    Християнське Свято. Відзначається усіма христи...  \n",
       "..                                                 ...  \n",
       "190  Одне з найурочистіших свят. Його відзначають н...  \n",
       "191  Відзначається в Україні (ЗАКОН УКРАЇНИ від 14 ...  \n",
       "192  Християнське свято в честь Діви Марії. Другий ...  \n",
       "193  Християнське свято, що припадає на день пам'ят...  \n",
       "194  Українське народно-церковне свято, вечір напер...  \n",
       "\n",
       "[195 rows x 3 columns]"
      ]
     },
     "execution_count": 10,
     "metadata": {},
     "output_type": "execute_result"
    }
   ],
   "source": [
    "df = tables[0]\n",
    "df"
   ]
  },
  {
   "cell_type": "code",
   "execution_count": 11,
   "id": "e2b3f36d-185e-47b5-8a14-06d294917ea2",
   "metadata": {},
   "outputs": [
    {
     "data": {
      "text/html": [
       "<div>\n",
       "<style scoped>\n",
       "    .dataframe tbody tr th:only-of-type {\n",
       "        vertical-align: middle;\n",
       "    }\n",
       "\n",
       "    .dataframe tbody tr th {\n",
       "        vertical-align: top;\n",
       "    }\n",
       "\n",
       "    .dataframe thead th {\n",
       "        text-align: right;\n",
       "    }\n",
       "</style>\n",
       "<table border=\"1\" class=\"dataframe\">\n",
       "  <thead>\n",
       "    <tr style=\"text-align: right;\">\n",
       "      <th></th>\n",
       "      <th>порСвята країн світу</th>\n",
       "      <th>порСвята країн світу.1</th>\n",
       "    </tr>\n",
       "  </thead>\n",
       "  <tbody>\n",
       "    <tr>\n",
       "      <th>0</th>\n",
       "      <td>Європа</td>\n",
       "      <td>Австрія • Албанія • Андорра • Бельгія • Білору...</td>\n",
       "    </tr>\n",
       "    <tr>\n",
       "      <th>1</th>\n",
       "      <td>Азія</td>\n",
       "      <td>Азербайджан • Афганістан • Бангладеш • Бахрейн...</td>\n",
       "    </tr>\n",
       "    <tr>\n",
       "      <th>2</th>\n",
       "      <td>Африка</td>\n",
       "      <td>Алжир • Ангола • Бенін • Ботсвана • Буркіна-Фа...</td>\n",
       "    </tr>\n",
       "    <tr>\n",
       "      <th>3</th>\n",
       "      <td>Північна Америка</td>\n",
       "      <td>Антигуа і Барбуда • Багамські Острови • Барбад...</td>\n",
       "    </tr>\n",
       "    <tr>\n",
       "      <th>4</th>\n",
       "      <td>Південна Америка</td>\n",
       "      <td>Аргентина • Болівія • Бразилія • Венесуела • Г...</td>\n",
       "    </tr>\n",
       "    <tr>\n",
       "      <th>5</th>\n",
       "      <td>Австралія і Океанія</td>\n",
       "      <td>Австралія • Американське Самоа • Вануату • Кір...</td>\n",
       "    </tr>\n",
       "  </tbody>\n",
       "</table>\n",
       "</div>"
      ],
      "text/plain": [
       "  порСвята країн світу                             порСвята країн світу.1\n",
       "0               Європа  Австрія • Албанія • Андорра • Бельгія • Білору...\n",
       "1                 Азія  Азербайджан • Афганістан • Бангладеш • Бахрейн...\n",
       "2               Африка  Алжир • Ангола • Бенін • Ботсвана • Буркіна-Фа...\n",
       "3     Північна Америка  Антигуа і Барбуда • Багамські Острови • Барбад...\n",
       "4     Південна Америка  Аргентина • Болівія • Бразилія • Венесуела • Г...\n",
       "5  Австралія і Океанія  Австралія • Американське Самоа • Вануату • Кір..."
      ]
     },
     "execution_count": 11,
     "metadata": {},
     "output_type": "execute_result"
    }
   ],
   "source": [
    "df1 = tables[1]\n",
    "df1"
   ]
  },
  {
   "cell_type": "code",
   "execution_count": 12,
   "id": "1f628a52-828f-462e-a5a5-4253033b9fec",
   "metadata": {},
   "outputs": [
    {
     "data": {
      "text/html": [
       "<div>\n",
       "<style scoped>\n",
       "    .dataframe tbody tr th:only-of-type {\n",
       "        vertical-align: middle;\n",
       "    }\n",
       "\n",
       "    .dataframe tbody tr th {\n",
       "        vertical-align: top;\n",
       "    }\n",
       "\n",
       "    .dataframe thead th {\n",
       "        text-align: right;\n",
       "    }\n",
       "</style>\n",
       "<table border=\"1\" class=\"dataframe\">\n",
       "  <thead>\n",
       "    <tr style=\"text-align: right;\">\n",
       "      <th></th>\n",
       "      <th>порНеробочі дні в Україні</th>\n",
       "      <th>порНеробочі дні в Україні.1</th>\n",
       "    </tr>\n",
       "  </thead>\n",
       "  <tbody>\n",
       "    <tr>\n",
       "      <th>0</th>\n",
       "      <td>Постійні дати</td>\n",
       "      <td>Новий рік (1 січня) • Міжнародний жіночий день...</td>\n",
       "    </tr>\n",
       "    <tr>\n",
       "      <th>1</th>\n",
       "      <td>Перехідні свята</td>\n",
       "      <td>Великдень (Па́сха) • День Святої Трійці (Трі́йця)</td>\n",
       "    </tr>\n",
       "  </tbody>\n",
       "</table>\n",
       "</div>"
      ],
      "text/plain": [
       "  порНеробочі дні в Україні                        порНеробочі дні в Україні.1\n",
       "0             Постійні дати  Новий рік (1 січня) • Міжнародний жіночий день...\n",
       "1           Перехідні свята  Великдень (Па́сха) • День Святої Трійці (Трі́йця)"
      ]
     },
     "execution_count": 12,
     "metadata": {},
     "output_type": "execute_result"
    }
   ],
   "source": [
    "df2 = tables[2]\n",
    "df2"
   ]
  },
  {
   "cell_type": "code",
   "execution_count": 13,
   "id": "f6607e52-4bb7-4a1d-81a4-9116b7874e3a",
   "metadata": {},
   "outputs": [
    {
     "data": {
      "text/html": [
       "<div>\n",
       "<style scoped>\n",
       "    .dataframe tbody tr th:only-of-type {\n",
       "        vertical-align: middle;\n",
       "    }\n",
       "\n",
       "    .dataframe tbody tr th {\n",
       "        vertical-align: top;\n",
       "    }\n",
       "\n",
       "    .dataframe thead th {\n",
       "        text-align: right;\n",
       "    }\n",
       "</style>\n",
       "<table border=\"1\" class=\"dataframe\">\n",
       "  <thead>\n",
       "    <tr style=\"text-align: right;\">\n",
       "      <th></th>\n",
       "      <th>порПравославні свята</th>\n",
       "      <th>порПравославні свята.1</th>\n",
       "    </tr>\n",
       "  </thead>\n",
       "  <tbody>\n",
       "    <tr>\n",
       "      <th>0</th>\n",
       "      <td>Дванадесяті свята</td>\n",
       "      <td>Хрещення (Водо́хреще) 6.01 • Стрі́тення Господ...</td>\n",
       "    </tr>\n",
       "    <tr>\n",
       "      <th>1</th>\n",
       "      <td>Не дванадесяті великі</td>\n",
       "      <td>Обрізання Христове та память Василія Великого ...</td>\n",
       "    </tr>\n",
       "    <tr>\n",
       "      <th>2</th>\n",
       "      <td>Середні</td>\n",
       "      <td>Новоліття[ru] • Сергія Радонезького • Іоанна Б...</td>\n",
       "    </tr>\n",
       "  </tbody>\n",
       "</table>\n",
       "</div>"
      ],
      "text/plain": [
       "    порПравославні свята                             порПравославні свята.1\n",
       "0      Дванадесяті свята  Хрещення (Водо́хреще) 6.01 • Стрі́тення Господ...\n",
       "1  Не дванадесяті великі  Обрізання Христове та память Василія Великого ...\n",
       "2                Середні  Новоліття[ru] • Сергія Радонезького • Іоанна Б..."
      ]
     },
     "execution_count": 13,
     "metadata": {},
     "output_type": "execute_result"
    }
   ],
   "source": [
    "df3 = tables[3]\n",
    "df3"
   ]
  },
  {
   "cell_type": "code",
   "execution_count": 14,
   "id": "51d9396d-f3fc-4aa8-b3cf-29d895a2009b",
   "metadata": {},
   "outputs": [
    {
     "data": {
      "text/html": [
       "<div>\n",
       "<style scoped>\n",
       "    .dataframe tbody tr th:only-of-type {\n",
       "        vertical-align: middle;\n",
       "    }\n",
       "\n",
       "    .dataframe tbody tr th {\n",
       "        vertical-align: top;\n",
       "    }\n",
       "\n",
       "    .dataframe thead th {\n",
       "        text-align: right;\n",
       "    }\n",
       "</style>\n",
       "<table border=\"1\" class=\"dataframe\">\n",
       "  <thead>\n",
       "    <tr style=\"text-align: right;\">\n",
       "      <th></th>\n",
       "      <th>пор Україна в темах</th>\n",
       "      <th>пор Україна в темах.1</th>\n",
       "      <th>пор Україна в темах.2</th>\n",
       "    </tr>\n",
       "  </thead>\n",
       "  <tbody>\n",
       "    <tr>\n",
       "      <th>0</th>\n",
       "      <td>Географія</td>\n",
       "      <td>Рельєф Геологічна будова Корисні копалини Карп...</td>\n",
       "      <td>NaN</td>\n",
       "    </tr>\n",
       "    <tr>\n",
       "      <th>1</th>\n",
       "      <td>Устрій</td>\n",
       "      <td>Територія Адміністративно-територіальний устрі...</td>\n",
       "      <td>NaN</td>\n",
       "    </tr>\n",
       "    <tr>\n",
       "      <th>2</th>\n",
       "      <td>Історія</td>\n",
       "      <td>Доісторична Україна Грецькі міста-держави Схід...</td>\n",
       "      <td>NaN</td>\n",
       "    </tr>\n",
       "    <tr>\n",
       "      <th>3</th>\n",
       "      <td>Символи</td>\n",
       "      <td>Герб Прапор Гімн Офіційні символи глави держав...</td>\n",
       "      <td>NaN</td>\n",
       "    </tr>\n",
       "    <tr>\n",
       "      <th>4</th>\n",
       "      <td>Державний лад</td>\n",
       "      <td>Конституція Конституційний процес Конституційн...</td>\n",
       "      <td>NaN</td>\n",
       "    </tr>\n",
       "    <tr>\n",
       "      <th>5</th>\n",
       "      <td>Оборона</td>\n",
       "      <td>Збройні сили Сухопутні війська Військово-морсь...</td>\n",
       "      <td>NaN</td>\n",
       "    </tr>\n",
       "    <tr>\n",
       "      <th>6</th>\n",
       "      <td>Безпека</td>\n",
       "      <td>Рада національної безпеки і оборони Прокуратур...</td>\n",
       "      <td>NaN</td>\n",
       "    </tr>\n",
       "    <tr>\n",
       "      <th>7</th>\n",
       "      <td>Економіка</td>\n",
       "      <td>Господарство (історія економіки) Валюта Банків...</td>\n",
       "      <td>NaN</td>\n",
       "    </tr>\n",
       "    <tr>\n",
       "      <th>8</th>\n",
       "      <td>Транспорт і зв'язок</td>\n",
       "      <td>Автошляхи Аеропорти Водний транспорт Газотранс...</td>\n",
       "      <td>NaN</td>\n",
       "    </tr>\n",
       "    <tr>\n",
       "      <th>9</th>\n",
       "      <td>Соціум</td>\n",
       "      <td>Населення Склад населення Мови Релігія Медицин...</td>\n",
       "      <td>NaN</td>\n",
       "    </tr>\n",
       "    <tr>\n",
       "      <th>10</th>\n",
       "      <td>Населення</td>\n",
       "      <td>Склад населення Мови Релігія Медицина (Здоров'...</td>\n",
       "      <td>NaN</td>\n",
       "    </tr>\n",
       "    <tr>\n",
       "      <th>11</th>\n",
       "      <td>Жінки</td>\n",
       "      <td>Перші леді Фемінізм Освіта В бізнесі В армії Н...</td>\n",
       "      <td>NaN</td>\n",
       "    </tr>\n",
       "    <tr>\n",
       "      <th>12</th>\n",
       "      <td>Знання</td>\n",
       "      <td>Освіта Середня Вища Наука Техніка</td>\n",
       "      <td>NaN</td>\n",
       "    </tr>\n",
       "    <tr>\n",
       "      <th>13</th>\n",
       "      <td>Культура</td>\n",
       "      <td>Література Музика Україна на Євробаченні Опера...</td>\n",
       "      <td>NaN</td>\n",
       "    </tr>\n",
       "    <tr>\n",
       "      <th>14</th>\n",
       "      <td>Туризм</td>\n",
       "      <td>Сім чудес Світова спадщина Замки Монастирі Пал...</td>\n",
       "      <td>NaN</td>\n",
       "    </tr>\n",
       "    <tr>\n",
       "      <th>15</th>\n",
       "      <td>Портал:Україна  Україна</td>\n",
       "      <td>Портал:Україна  Україна</td>\n",
       "      <td>Портал:Україна  Україна</td>\n",
       "    </tr>\n",
       "  </tbody>\n",
       "</table>\n",
       "</div>"
      ],
      "text/plain": [
       "        пор Україна в темах  \\\n",
       "0                 Географія   \n",
       "1                    Устрій   \n",
       "2                   Історія   \n",
       "3                   Символи   \n",
       "4             Державний лад   \n",
       "5                   Оборона   \n",
       "6                   Безпека   \n",
       "7                 Економіка   \n",
       "8       Транспорт і зв'язок   \n",
       "9                    Соціум   \n",
       "10                Населення   \n",
       "11                    Жінки   \n",
       "12                   Знання   \n",
       "13                 Культура   \n",
       "14                   Туризм   \n",
       "15  Портал:Україна  Україна   \n",
       "\n",
       "                                пор Україна в темах.1    пор Україна в темах.2  \n",
       "0   Рельєф Геологічна будова Корисні копалини Карп...                      NaN  \n",
       "1   Територія Адміністративно-територіальний устрі...                      NaN  \n",
       "2   Доісторична Україна Грецькі міста-держави Схід...                      NaN  \n",
       "3   Герб Прапор Гімн Офіційні символи глави держав...                      NaN  \n",
       "4   Конституція Конституційний процес Конституційн...                      NaN  \n",
       "5   Збройні сили Сухопутні війська Військово-морсь...                      NaN  \n",
       "6   Рада національної безпеки і оборони Прокуратур...                      NaN  \n",
       "7   Господарство (історія економіки) Валюта Банків...                      NaN  \n",
       "8   Автошляхи Аеропорти Водний транспорт Газотранс...                      NaN  \n",
       "9   Населення Склад населення Мови Релігія Медицин...                      NaN  \n",
       "10  Склад населення Мови Релігія Медицина (Здоров'...                      NaN  \n",
       "11  Перші леді Фемінізм Освіта В бізнесі В армії Н...                      NaN  \n",
       "12                  Освіта Середня Вища Наука Техніка                      NaN  \n",
       "13  Література Музика Україна на Євробаченні Опера...                      NaN  \n",
       "14  Сім чудес Світова спадщина Замки Монастирі Пал...                      NaN  \n",
       "15                            Портал:Україна  Україна  Портал:Україна  Україна  "
      ]
     },
     "execution_count": 14,
     "metadata": {},
     "output_type": "execute_result"
    }
   ],
   "source": [
    "df4 = tables[4]\n",
    "df4"
   ]
  },
  {
   "cell_type": "code",
   "execution_count": 15,
   "id": "fd58b76f-5886-4486-8ecb-92d09967a70e",
   "metadata": {},
   "outputs": [
    {
     "data": {
      "text/html": [
       "<div>\n",
       "<style scoped>\n",
       "    .dataframe tbody tr th:only-of-type {\n",
       "        vertical-align: middle;\n",
       "    }\n",
       "\n",
       "    .dataframe tbody tr th {\n",
       "        vertical-align: top;\n",
       "    }\n",
       "\n",
       "    .dataframe thead th {\n",
       "        text-align: right;\n",
       "    }\n",
       "</style>\n",
       "<table border=\"1\" class=\"dataframe\">\n",
       "  <thead>\n",
       "    <tr style=\"text-align: right;\">\n",
       "      <th></th>\n",
       "      <th>0</th>\n",
       "      <th>1</th>\n",
       "    </tr>\n",
       "  </thead>\n",
       "  <tbody>\n",
       "    <tr>\n",
       "      <th>0</th>\n",
       "      <td>Населення</td>\n",
       "      <td>Склад населення Мови Релігія Медицина (Здоров'...</td>\n",
       "    </tr>\n",
       "    <tr>\n",
       "      <th>1</th>\n",
       "      <td>Жінки</td>\n",
       "      <td>Перші леді Фемінізм Освіта В бізнесі В армії Н...</td>\n",
       "    </tr>\n",
       "    <tr>\n",
       "      <th>2</th>\n",
       "      <td>Знання</td>\n",
       "      <td>Освіта Середня Вища Наука Техніка</td>\n",
       "    </tr>\n",
       "    <tr>\n",
       "      <th>3</th>\n",
       "      <td>Культура</td>\n",
       "      <td>Література Музика Україна на Євробаченні Опера...</td>\n",
       "    </tr>\n",
       "    <tr>\n",
       "      <th>4</th>\n",
       "      <td>Туризм</td>\n",
       "      <td>Сім чудес Світова спадщина Замки Монастирі Пал...</td>\n",
       "    </tr>\n",
       "  </tbody>\n",
       "</table>\n",
       "</div>"
      ],
      "text/plain": [
       "           0                                                  1\n",
       "0  Населення  Склад населення Мови Релігія Медицина (Здоров'...\n",
       "1      Жінки  Перші леді Фемінізм Освіта В бізнесі В армії Н...\n",
       "2     Знання                  Освіта Середня Вища Наука Техніка\n",
       "3   Культура  Література Музика Україна на Євробаченні Опера...\n",
       "4     Туризм  Сім чудес Світова спадщина Замки Монастирі Пал..."
      ]
     },
     "execution_count": 15,
     "metadata": {},
     "output_type": "execute_result"
    }
   ],
   "source": [
    "df5 = tables[5]\n",
    "df5"
   ]
  },
  {
   "cell_type": "markdown",
   "id": "f6de587d-54ba-45e0-8a39-d5528dc44376",
   "metadata": {},
   "source": [
    "We've determined that the table that we are intrested is with index 0 (df). Now we would want to asest the risk factor of each holiday. For this work we`ve decided to work with LLM model directly due to limitations of API and experimental nature of our task. So the data is to be uploaded on device in 4 parts of manegeble sizes."
   ]
  },
  {
   "cell_type": "code",
   "execution_count": 16,
   "id": "e48c3a32-88fc-4c00-adbc-811c4187097a",
   "metadata": {},
   "outputs": [
    {
     "name": "stdout",
     "output_type": "stream",
     "text": [
      "Data split and saved successfully!\n"
     ]
    }
   ],
   "source": [
    "num_parts = 4\n",
    "split_dfs = [df.iloc[i::num_parts] for i in range(num_parts)]\n",
    "\n",
    "for i, part in enumerate(split_dfs):\n",
    "    part.to_csv(f\"holidays_part_{i+1}.csv\", index=False)\n",
    "\n",
    "print(\"Data split and saved successfully!\")"
   ]
  },
  {
   "attachments": {},
   "cell_type": "markdown",
   "id": "54c4469f-5595-4915-9bea-b657cfb7e969",
   "metadata": {},
   "source": [
    "Here is the clasifications and promt that we decided to go for:\n",
    "\n",
    "[TASK] Read attached file. It is list of holidays in Russia. Your task is to divide them in three categories:\n",
    "1) Small middle holidays that are celebrated not by all and overall do not really have incredible value.\n",
    "2) Big holidays that are celebrated by most of the population of Russia, but do not related to its army or sovereignty \n",
    "3) Holidays impotent to Russian army, propaganda or Ukrainian sovereignty that they try to destroy.\n",
    "[IMPORTANT TIPS] \n",
    "Execute division manually by your self. Do not use code or any other template or help utilities.\n",
    "YOU HAVE TO OUTPUT ALL PROVIDED HOLIDAYS WITH THEIR TYPE \n",
    "[OUTPUT FORMAT] PLAIN TEXT:\n",
    "list of such form:\n",
    "{date of holiday},{name of holiday},{type of holiday}\n",
    "For example:\n",
    "1 січня,Новий рік,2\n",
    "20 січня,День вшанування захисників Донецького аеропорту,3\n",
    "..."
   ]
  },
  {
   "cell_type": "markdown",
   "id": "bbd54694-e11c-438f-9df1-696cd6319999",
   "metadata": {},
   "source": [
    "After asigment of the risk factor we shall upload the files back and work with them"
   ]
  },
  {
   "cell_type": "code",
   "execution_count": 17,
   "id": "1aef8ae9-0328-4959-aebb-c7716e19d7b5",
   "metadata": {},
   "outputs": [],
   "source": [
    "file1 = r\"C:\\Users\\roman\\.conda\\first_part.csv\"\n",
    "file2 = r\"C:\\Users\\roman\\.conda\\second_part.csv\"\n",
    "file3 = r\"C:\\Users\\roman\\.conda\\third_part.csv\"\n",
    "file4 = r\"C:\\Users\\roman\\.conda\\fourth_part.csv\""
   ]
  },
  {
   "cell_type": "markdown",
   "id": "f30a7df2-021e-4756-ad69-ecda8464cf04",
   "metadata": {},
   "source": [
    "In case of problem with dowmloading due to usage of comas not only as separetor but also in the names of holidays format them properly like this"
   ]
  },
  {
   "cell_type": "code",
   "execution_count": 18,
   "id": "55a23054-ea1b-43de-94f0-ca70014cd02b",
   "metadata": {},
   "outputs": [],
   "source": [
    "files = [file1, file2, file3, file4]\n",
    "dfs = []"
   ]
  },
  {
   "cell_type": "code",
   "execution_count": 19,
   "id": "8e841a40-5d8a-4cfe-91a7-0b4f8c2d2bb1",
   "metadata": {},
   "outputs": [],
   "source": [
    "for file in files:\n",
    "    with open(file, 'r', encoding='utf-8') as f:\n",
    "        data = [line.strip().split(',') for line in f]\n",
    "\n",
    "    dates = [row[0] for row in data]\n",
    "    risks = [row[-1] for row in data]\n",
    "    holidays = [', '.join(row[1:-1]) for row in data]  \n",
    "\n",
    "    df = pd.DataFrame({'Date': dates, 'Holidays': holidays, 'Risk': risks})\n",
    "    \n",
    "    dfs.append(df)"
   ]
  },
  {
   "cell_type": "code",
   "execution_count": 20,
   "id": "8109af6a-628f-4e29-8273-035511bb5a69",
   "metadata": {},
   "outputs": [
    {
     "data": {
      "text/html": [
       "<div>\n",
       "<style scoped>\n",
       "    .dataframe tbody tr th:only-of-type {\n",
       "        vertical-align: middle;\n",
       "    }\n",
       "\n",
       "    .dataframe tbody tr th {\n",
       "        vertical-align: top;\n",
       "    }\n",
       "\n",
       "    .dataframe thead th {\n",
       "        text-align: right;\n",
       "    }\n",
       "</style>\n",
       "<table border=\"1\" class=\"dataframe\">\n",
       "  <thead>\n",
       "    <tr style=\"text-align: right;\">\n",
       "      <th></th>\n",
       "      <th>Date</th>\n",
       "      <th>Holidays</th>\n",
       "      <th>Risk</th>\n",
       "    </tr>\n",
       "  </thead>\n",
       "  <tbody>\n",
       "    <tr>\n",
       "      <th>0</th>\n",
       "      <td>1 січня</td>\n",
       "      <td>Новий рік</td>\n",
       "      <td>2</td>\n",
       "    </tr>\n",
       "    <tr>\n",
       "      <th>1</th>\n",
       "      <td>1 січня</td>\n",
       "      <td>День Святого Василія Великого</td>\n",
       "      <td>1</td>\n",
       "    </tr>\n",
       "    <tr>\n",
       "      <th>2</th>\n",
       "      <td>5 січня</td>\n",
       "      <td>Хрещенський святвечір</td>\n",
       "      <td>1</td>\n",
       "    </tr>\n",
       "    <tr>\n",
       "      <th>3</th>\n",
       "      <td>6 січня</td>\n",
       "      <td>Богоявлення</td>\n",
       "      <td>1</td>\n",
       "    </tr>\n",
       "    <tr>\n",
       "      <th>4</th>\n",
       "      <td>20 січня</td>\n",
       "      <td>День вшанування захисників Донецького аеропорту</td>\n",
       "      <td>3</td>\n",
       "    </tr>\n",
       "  </tbody>\n",
       "</table>\n",
       "</div>"
      ],
      "text/plain": [
       "       Date                                         Holidays Risk\n",
       "0   1 січня                                        Новий рік    2\n",
       "1   1 січня                    День Святого Василія Великого    1\n",
       "2   5 січня                            Хрещенський святвечір    1\n",
       "3   6 січня                                      Богоявлення    1\n",
       "4  20 січня  День вшанування захисників Донецького аеропорту    3"
      ]
     },
     "execution_count": 20,
     "metadata": {},
     "output_type": "execute_result"
    }
   ],
   "source": [
    "dfs[0].head(5)"
   ]
  },
  {
   "cell_type": "markdown",
   "id": "d1f5ac67-2f14-4e2b-86b0-1908411f7b61",
   "metadata": {},
   "source": [
    "Now that all of our files are properly dowmloaded lets combine them in one"
   ]
  },
  {
   "cell_type": "code",
   "execution_count": 21,
   "id": "578c6634-bbbe-4a9c-9b31-f291015c889a",
   "metadata": {},
   "outputs": [
    {
     "data": {
      "text/html": [
       "<div>\n",
       "<style scoped>\n",
       "    .dataframe tbody tr th:only-of-type {\n",
       "        vertical-align: middle;\n",
       "    }\n",
       "\n",
       "    .dataframe tbody tr th {\n",
       "        vertical-align: top;\n",
       "    }\n",
       "\n",
       "    .dataframe thead th {\n",
       "        text-align: right;\n",
       "    }\n",
       "</style>\n",
       "<table border=\"1\" class=\"dataframe\">\n",
       "  <thead>\n",
       "    <tr style=\"text-align: right;\">\n",
       "      <th></th>\n",
       "      <th>Date</th>\n",
       "      <th>Holidays</th>\n",
       "      <th>Risk</th>\n",
       "    </tr>\n",
       "  </thead>\n",
       "  <tbody>\n",
       "    <tr>\n",
       "      <th>0</th>\n",
       "      <td>1 січня</td>\n",
       "      <td>Новий рік</td>\n",
       "      <td>2</td>\n",
       "    </tr>\n",
       "    <tr>\n",
       "      <th>1</th>\n",
       "      <td>1 січня</td>\n",
       "      <td>День Святого Василія Великого</td>\n",
       "      <td>1</td>\n",
       "    </tr>\n",
       "    <tr>\n",
       "      <th>2</th>\n",
       "      <td>5 січня</td>\n",
       "      <td>Хрещенський святвечір</td>\n",
       "      <td>1</td>\n",
       "    </tr>\n",
       "    <tr>\n",
       "      <th>3</th>\n",
       "      <td>6 січня</td>\n",
       "      <td>Богоявлення</td>\n",
       "      <td>1</td>\n",
       "    </tr>\n",
       "    <tr>\n",
       "      <th>4</th>\n",
       "      <td>20 січня</td>\n",
       "      <td>День вшанування захисників Донецького аеропорту</td>\n",
       "      <td>3</td>\n",
       "    </tr>\n",
       "    <tr>\n",
       "      <th>5</th>\n",
       "      <td>22 січня</td>\n",
       "      <td>День Соборності України</td>\n",
       "      <td>3</td>\n",
       "    </tr>\n",
       "    <tr>\n",
       "      <th>6</th>\n",
       "      <td>24 січня</td>\n",
       "      <td>День зовнішньої розвідки України</td>\n",
       "      <td>3</td>\n",
       "    </tr>\n",
       "    <tr>\n",
       "      <th>7</th>\n",
       "      <td>26 січня</td>\n",
       "      <td>День працівників контрольно-ревізійної служби ...</td>\n",
       "      <td>1</td>\n",
       "    </tr>\n",
       "    <tr>\n",
       "      <th>8</th>\n",
       "      <td>29 січня</td>\n",
       "      <td>День пам'яті Героїв Крут</td>\n",
       "      <td>3</td>\n",
       "    </tr>\n",
       "    <tr>\n",
       "      <th>9</th>\n",
       "      <td>2 лютого</td>\n",
       "      <td>Стрітення</td>\n",
       "      <td>1</td>\n",
       "    </tr>\n",
       "  </tbody>\n",
       "</table>\n",
       "</div>"
      ],
      "text/plain": [
       "       Date                                           Holidays Risk\n",
       "0   1 січня                                          Новий рік    2\n",
       "1   1 січня                      День Святого Василія Великого    1\n",
       "2   5 січня                              Хрещенський святвечір    1\n",
       "3   6 січня                                        Богоявлення    1\n",
       "4  20 січня    День вшанування захисників Донецького аеропорту    3\n",
       "5  22 січня                            День Соборності України    3\n",
       "6  24 січня                   День зовнішньої розвідки України    3\n",
       "7  26 січня  День працівників контрольно-ревізійної служби ...    1\n",
       "8  29 січня                           День пам'яті Героїв Крут    3\n",
       "9  2 лютого                                          Стрітення    1"
      ]
     },
     "execution_count": 21,
     "metadata": {},
     "output_type": "execute_result"
    }
   ],
   "source": [
    "df_combined = pd.concat(dfs, ignore_index=True)\n",
    "df_combined.head(10)"
   ]
  },
  {
   "cell_type": "code",
   "execution_count": 22,
   "id": "864f3aec-0005-4928-bf4a-66bc8f4e970b",
   "metadata": {},
   "outputs": [
    {
     "name": "stdout",
     "output_type": "stream",
     "text": [
      "CSV files have been combined and saved as 'combined_ukr_holidays.csv'.\n"
     ]
    }
   ],
   "source": [
    "df_combined.to_csv(\"combined_ukr_holidays.csv\", index=False)\n",
    "\n",
    "print(\"CSV files have been combined and saved as 'combined_ukr_holidays.csv'.\")"
   ]
  },
  {
   "cell_type": "markdown",
   "id": "cc00e79f-c93f-45a9-b109-2b0adbe8d9d0",
   "metadata": {},
   "source": [
    "While the classification of holiday risk factors remains subjective, its impact on predictive accuracy can be quantitatively assessed. Future work will focus on integrating this dataset with historical airstrike records to evaluate correlation strength and model effectiveness. If significant patterns emerge, this approach may contribute to improved conflict prediction methodologies."
   ]
  }
 ],
 "metadata": {
  "kernelspec": {
   "display_name": "Python 3 (ipykernel)",
   "language": "python",
   "name": "python3"
  },
  "language_info": {
   "codemirror_mode": {
    "name": "ipython",
    "version": 3
   },
   "file_extension": ".py",
   "mimetype": "text/x-python",
   "name": "python",
   "nbconvert_exporter": "python",
   "pygments_lexer": "ipython3",
   "version": "3.11.7"
  }
 },
 "nbformat": 4,
 "nbformat_minor": 5
}
